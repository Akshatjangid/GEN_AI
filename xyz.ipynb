{
 "cells": [
  {
   "cell_type": "code",
   "execution_count": 1,
   "id": "09bc752f",
   "metadata": {},
   "outputs": [
    {
     "name": "stdout",
     "output_type": "stream",
     "text": [
      "TensorFlow Version: 2.19.0\n",
      "समस्या: TensorFlow को आपका GPU नहीं मिल रहा है।\n"
     ]
    }
   ],
   "source": [
    "import tensorflow as tf\n",
    "\n",
    "print(f\"TensorFlow Version: {tf.__version__}\")\n",
    "\n",
    "gpu_devices = tf.config.list_physical_devices('GPU')\n",
    "\n",
    "if gpu_devices:\n",
    "  print(\"शानदार! आपका GPU मिल गया है!\")\n",
    "  print(f\"Available GPUs: {gpu_devices}\")\n",
    "else:\n",
    "  print(\"समस्या: TensorFlow को आपका GPU नहीं मिल रहा है।\")"
   ]
  },
  {
   "cell_type": "code",
   "execution_count": null,
   "id": "619c7510",
   "metadata": {},
   "outputs": [],
   "source": []
  }
 ],
 "metadata": {
  "kernelspec": {
   "display_name": "Python 3",
   "language": "python",
   "name": "python3"
  },
  "language_info": {
   "codemirror_mode": {
    "name": "ipython",
    "version": 3
   },
   "file_extension": ".py",
   "mimetype": "text/x-python",
   "name": "python",
   "nbconvert_exporter": "python",
   "pygments_lexer": "ipython3",
   "version": "3.10.11"
  }
 },
 "nbformat": 4,
 "nbformat_minor": 5
}
