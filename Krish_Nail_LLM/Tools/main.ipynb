{
 "cells": [
  {
   "cell_type": "markdown",
   "id": "5cfed8d1",
   "metadata": {},
   "source": [
    "# Tools in Langchain\n",
    "##   1. how to create tools\n",
    "##   2. how to use built in tools\n",
    "##   3. how to use chat models to chat tools\n",
    "##   4. how to pass tool outputs to chat model"
   ]
  },
  {
   "cell_type": "code",
   "execution_count": null,
   "id": "3986f16a",
   "metadata": {},
   "outputs": [],
   "source": [
    "# @coretools\n",
    "from langchain_core.tools import tool\n"
   ]
  }
 ],
 "metadata": {
  "kernelspec": {
   "display_name": "krish-nail-llm",
   "language": "python",
   "name": "python3"
  },
  "language_info": {
   "name": "python",
   "version": "3.10.11"
  }
 },
 "nbformat": 4,
 "nbformat_minor": 5
}
